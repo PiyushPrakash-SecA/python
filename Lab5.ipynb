{
  "nbformat": 4,
  "nbformat_minor": 0,
  "metadata": {
    "colab": {
      "provenance": [],
      "include_colab_link": true
    },
    "kernelspec": {
      "name": "python3",
      "display_name": "Python 3"
    },
    "language_info": {
      "name": "python"
    }
  },
  "cells": [
    {
      "cell_type": "markdown",
      "metadata": {
        "id": "view-in-github",
        "colab_type": "text"
      },
      "source": [
        "<a href=\"https://colab.research.google.com/github/PiyushPrakash-SecA/python/blob/main/Lab5.ipynb\" target=\"_parent\"><img src=\"https://colab.research.google.com/assets/colab-badge.svg\" alt=\"Open In Colab\"/></a>"
      ]
    },
    {
      "cell_type": "markdown",
      "source": [
        "1. Write a program to enter a string. Calculate the length of the string. Find the substring country.\n",
        "Count the occurences of each word in the given sentence.\n",
        "If the String as input is India is my motherland. I love my country. Capital of India is New Delhi.\n"
      ],
      "metadata": {
        "id": "Hrh1rpVAIM_e"
      }
    },
    {
      "cell_type": "code",
      "execution_count": null,
      "metadata": {
        "colab": {
          "base_uri": "https://localhost:8080/"
        },
        "id": "f3uMNBDrIG18",
        "outputId": "c8f40cd5-13bf-41a0-8e23-56c3ac5c74d9"
      },
      "outputs": [
        {
          "output_type": "stream",
          "name": "stdout",
          "text": [
            "Enter a string: India is my motherland. I love my country. Capital of India is New Delhi.\n",
            "Length of the string: 73\n",
            "The substring 'country' is found in the string.\n",
            "\n",
            "Word occurrences:\n",
            "india: 2\n",
            "is: 2\n",
            "my: 2\n",
            "motherland: 1\n",
            "i: 1\n",
            "love: 1\n",
            "country: 1\n",
            "capital: 1\n",
            "of: 1\n",
            "new: 1\n",
            "delhi: 1\n"
          ]
        }
      ],
      "source": [
        "def main():\n",
        "    # Input the string\n",
        "    input_string = input(\"Enter a string: \")\n",
        "\n",
        "    # Calculate the length of the string\n",
        "    string_length = len(input_string)\n",
        "    print(f\"Length of the string: {string_length}\")\n",
        "\n",
        "    # Find the substring 'country'\n",
        "    if 'country' in input_string:\n",
        "        print(\"The substring 'country' is found in the string.\")\n",
        "    else:\n",
        "        print(\"The substring 'country' is not found in the string.\")\n",
        "\n",
        "    # Count the occurrences of each word in the given sentence\n",
        "    word_counts = {}\n",
        "    words = input_string.split()\n",
        "\n",
        "    for word in words:\n",
        "        word = word.strip('.,').lower()  # Remove punctuation and make lowercase\n",
        "        if word in word_counts:\n",
        "            word_counts[word] += 1\n",
        "        else:\n",
        "            word_counts[word] = 1\n",
        "\n",
        "    print(\"\\nWord occurrences:\")\n",
        "    for word, count in word_counts.items():\n",
        "        print(f\"{word}: {count}\")\n",
        "\n",
        "if __name__ == \"__main__\":\n",
        "    main()\n"
      ]
    },
    {
      "cell_type": "markdown",
      "source": [
        "2.Write a program that accepts a comma separated sequence of words as input and prints the words\n",
        "in a comma-separated sequence after sorting them alphabetically.\n",
        "Suppose the following input is supplied to the program:\n",
        "without,hello,bag,world\n",
        "Then, the output should be:\n",
        "bag,hello,without,world"
      ],
      "metadata": {
        "id": "-faJoav5Inhp"
      }
    },
    {
      "cell_type": "code",
      "source": [
        "def main():\n",
        "    # Input a comma-separated sequence of words\n",
        "    input_string = input(\"Enter a comma-separated sequence of words: \")\n",
        "\n",
        "    # Split the string into a list of words\n",
        "    words = input_string.split(',')\n",
        "\n",
        "    # Sort the words alphabetically\n",
        "    sorted_words = sorted(words)\n",
        "\n",
        "    # Join the sorted words back into a comma-separated string\n",
        "    output_string = ','.join(sorted_words)\n",
        "\n",
        "    # Print the sorted sequence\n",
        "    print(output_string)\n",
        "\n",
        "if __name__ == \"__main__\":\n",
        "    main()\n"
      ],
      "metadata": {
        "colab": {
          "base_uri": "https://localhost:8080/"
        },
        "id": "bSneUqtyIrFQ",
        "outputId": "28cb97bd-c4c7-4e27-e733-7ce442fe8363"
      },
      "execution_count": null,
      "outputs": [
        {
          "output_type": "stream",
          "name": "stdout",
          "text": [
            "Enter a comma-separated sequence of words: without,hello,bag,world\n",
            "bag,hello,without,world\n"
          ]
        }
      ]
    },
    {
      "cell_type": "markdown",
      "source": [
        "3. Write a program that accepts sequence of lines as input and prints the lines after making all\n",
        "characters in the sentence capitalized.\n",
        "Suppose the following input is supplied to the program:\n",
        "Hello world\n",
        "Practice makes perfect\n",
        "Then, the output should be:\n",
        "HELLO WORLD\n",
        "PRACTICE MAKES PERFECT"
      ],
      "metadata": {
        "id": "YA6EGxehI8jC"
      }
    },
    {
      "cell_type": "code",
      "source": [
        "def main():\n",
        "    print(\"Enter a sequence of lines (type 'END' to stop):\")\n",
        "\n",
        "    lines = []\n",
        "\n",
        "    while True:\n",
        "        line = input()\n",
        "        if line == \"END\":\n",
        "            break\n",
        "        lines.append(line.upper())\n",
        "\n",
        "    print(\"\\nOutput:\")\n",
        "    for line in lines:\n",
        "        print(line)\n",
        "\n",
        "if __name__ == \"__main__\":\n",
        "    main()\n"
      ],
      "metadata": {
        "colab": {
          "base_uri": "https://localhost:8080/"
        },
        "id": "hUGFMf5II6wc",
        "outputId": "a4757e1d-7bf8-44cc-feeb-452a1b7602fb"
      },
      "execution_count": null,
      "outputs": [
        {
          "output_type": "stream",
          "name": "stdout",
          "text": [
            "Enter a sequence of lines (type 'END' to stop):\n",
            "HELLO WORLD\n",
            "Practice makes perfect\n",
            "END\n",
            "\n",
            "Output:\n",
            "HELLO WORLD\n",
            "PRACTICE MAKES PERFECT\n"
          ]
        }
      ]
    },
    {
      "cell_type": "markdown",
      "source": [
        "4. Write a program that accepts a sequence of whitespace separated words as input and prints the\n",
        "words after removing all duplicate words and sorting them alphanumerically.\n",
        "Suppose the following input is supplied to the program:\n",
        "hello world and practice makes perfect and hello world again\n",
        "Then, the output should be:\n",
        "again and hello makes perfect practice world"
      ],
      "metadata": {
        "id": "e71cmmXvJl2S"
      }
    },
    {
      "cell_type": "code",
      "source": [
        "def main():\n",
        "    # Input a sequence of whitespace-separated words\n",
        "    input_string = input(\"Enter a sequence of whitespace-separated words: \")\n",
        "\n",
        "    # Split the string into a list of words\n",
        "    words = input_string.split()\n",
        "\n",
        "    # Remove duplicates by converting the list to a set\n",
        "    unique_words = set(words)\n",
        "\n",
        "    # Sort the unique words alphanumerically\n",
        "    sorted_words = sorted(unique_words)\n",
        "\n",
        "    # Join the sorted words back into a string with spaces\n",
        "    output_string = ' '.join(sorted_words)\n",
        "\n",
        "    # Print the sorted sequence without duplicates\n",
        "    print(output_string)\n",
        "\n",
        "if __name__ == \"__main__\":\n",
        "    main()\n"
      ],
      "metadata": {
        "colab": {
          "base_uri": "https://localhost:8080/"
        },
        "id": "tM1iX3HVJfNn",
        "outputId": "4c6c5c2c-71bd-4533-ddfe-5041a461ca81"
      },
      "execution_count": null,
      "outputs": [
        {
          "output_type": "stream",
          "name": "stdout",
          "text": [
            "Enter a sequence of whitespace-separated words: hello world and practice makes perfect and hello world again\n",
            "again and hello makes perfect practice world\n"
          ]
        }
      ]
    },
    {
      "cell_type": "markdown",
      "source": [
        "5. Write a program that accepts a sentence and calculate the number of letters and digits.\n",
        "Suppose the following input is supplied to the program:\n",
        "hello world! 123\n",
        "Then, the output should be:\n",
        "LETTERS 10\n",
        "DIGITS 3"
      ],
      "metadata": {
        "id": "o4_n8jLCJtYb"
      }
    },
    {
      "cell_type": "code",
      "source": [
        "def main():\n",
        "    # Input the sentence\n",
        "    input_string = input(\"Enter a sentence: \")\n",
        "\n",
        "    # Initialize counters for letters and digits\n",
        "    letter_count = 0\n",
        "    digit_count = 0\n",
        "\n",
        "    # Iterate over each character in the string\n",
        "    for char in input_string:\n",
        "        if char.isalpha():  # Check if the character is a letter\n",
        "            letter_count += 1\n",
        "        elif char.isdigit():  # Check if the character is a digit\n",
        "            digit_count += 1\n",
        "\n",
        "    # Print the results\n",
        "    print(f\"LETTERS {letter_count}\")\n",
        "    print(f\"DIGITS {digit_count}\")\n",
        "\n",
        "if __name__ == \"__main__\":\n",
        "    main()\n"
      ],
      "metadata": {
        "colab": {
          "base_uri": "https://localhost:8080/"
        },
        "id": "KB3F-p73JwBq",
        "outputId": "a37ac992-d1da-4ac9-c9b3-01bbfafc6f37"
      },
      "execution_count": null,
      "outputs": [
        {
          "output_type": "stream",
          "name": "stdout",
          "text": [
            "Enter a sentence: hello world! 123\n",
            "LETTERS 10\n",
            "DIGITS 3\n"
          ]
        }
      ]
    },
    {
      "cell_type": "markdown",
      "source": [
        "6. Write a program which accepts a string as input to print &quot;Yes&quot; if the string is &quot;yes&quot; or &quot;YES&quot; or\n",
        "&quot;Yes&quot;, otherwise print &quot;No&quot;."
      ],
      "metadata": {
        "id": "HaCblOZ-Kwv6"
      }
    },
    {
      "cell_type": "code",
      "source": [
        "def main():\n",
        "    # Input the string\n",
        "    input_string = input(\"Enter a string: \")\n",
        "\n",
        "    # Check if the string matches \"yes\", \"YES\", or \"Yes\"\n",
        "    if input_string == \"yes\" or input_string == \"YES\" or input_string == \"Yes\":\n",
        "        print(\"Yes\")\n",
        "    else:\n",
        "        print(\"No\")\n",
        "\n",
        "if __name__ == \"__main__\":\n",
        "    main()\n"
      ],
      "metadata": {
        "colab": {
          "base_uri": "https://localhost:8080/"
        },
        "id": "52HfzbMbKzUI",
        "outputId": "033f693f-6cfc-4361-cbea-e0c8f6c137cc"
      },
      "execution_count": null,
      "outputs": [
        {
          "output_type": "stream",
          "name": "stdout",
          "text": [
            "Enter a string: YES\n",
            "Yes\n"
          ]
        }
      ]
    },
    {
      "cell_type": "markdown",
      "source": [
        "7. Write a program which accepts a sequence of words separated by whitespace as input to print the\n",
        "words composed of digits only.\n",
        "Example:\n",
        "If the following words is given as input to the program:\n",
        "2 cats and 3 dogs.\n",
        "Then, the output of the program should be:\n",
        "['2', '3']\n",
        "In case of input data being supplied to the question, it should be assumed to be a console input."
      ],
      "metadata": {
        "id": "na-XiVESLBmK"
      }
    },
    {
      "cell_type": "code",
      "source": [
        "def main():\n",
        "    # Input a sequence of words separated by whitespace\n",
        "    input_string = input(\"Enter a sequence of words separated by whitespace: \")\n",
        "\n",
        "    # Split the input string into a list of words\n",
        "    words = input_string.split()\n",
        "\n",
        "    # Filter the words that are composed of digits only\n",
        "    digit_words = [word for word in words if word.isdigit()]\n",
        "\n",
        "    # Print the list of digit-only words\n",
        "    print(digit_words)\n",
        "\n",
        "if __name__ == \"__main__\":\n",
        "    main()\n"
      ],
      "metadata": {
        "colab": {
          "base_uri": "https://localhost:8080/"
        },
        "id": "jt3RZuA4K5Mp",
        "outputId": "5016f9c9-21af-4ef4-b531-e2f44c5293e8"
      },
      "execution_count": null,
      "outputs": [
        {
          "output_type": "stream",
          "name": "stdout",
          "text": [
            "Enter a sequence of words separated by whitespace: 2 cats and 3 dogs.\n",
            "['2', '3']\n"
          ]
        }
      ]
    },
    {
      "cell_type": "markdown",
      "source": [
        "8. Please write a program which count and print the numbers of each character in a string input by\n",
        "console.\n",
        "Example:\n",
        "If the following string is given as input to the program:\n",
        "abcdefgabc\n",
        "Then, the output of the program should be:\n",
        "a,2\n",
        "c,2\n",
        "b,2\n",
        "e,1\n",
        "d,1\n",
        "g,1\n",
        "f,1"
      ],
      "metadata": {
        "id": "QqrRNKwxLe_v"
      }
    },
    {
      "cell_type": "code",
      "source": [
        "def main():\n",
        "    # Input the string\n",
        "    input_string = input(\"Enter a string: \")\n",
        "\n",
        "    # Initialize a dictionary to store the count of each character\n",
        "    char_count = {}\n",
        "\n",
        "    # Count each character in the string\n",
        "    for char in input_string:\n",
        "        if char in char_count:\n",
        "            char_count[char] += 1\n",
        "        else:\n",
        "            char_count[char] = 1\n",
        "\n",
        "    # Print the character counts\n",
        "    for char, count in char_count.items():\n",
        "        print(f\"{char},{count}\")\n",
        "\n",
        "if __name__ == \"__main__\":\n",
        "    main()\n"
      ],
      "metadata": {
        "colab": {
          "base_uri": "https://localhost:8080/"
        },
        "id": "CAP6JMDELjK0",
        "outputId": "d0448a10-d606-4f0c-dcf6-992d8f7693e5"
      },
      "execution_count": null,
      "outputs": [
        {
          "output_type": "stream",
          "name": "stdout",
          "text": [
            "Enter a string: abcdefgabc\n",
            "a,2\n",
            "b,2\n",
            "c,2\n",
            "d,1\n",
            "e,1\n",
            "f,1\n",
            "g,1\n"
          ]
        }
      ]
    },
    {
      "cell_type": "markdown",
      "source": [
        "9.Write a program that accepts a string\n",
        "I. 1.reverses it.\n",
        "II. 2.checks whether it is a palindrome.\n",
        "III. 3.checks whether it ends with a specific substring.\n",
        "IV. 4.capitalize the first letter of each word in a string\n",
        "V. 5.check if a string is anagram of another string\n",
        "VI. 6.remove vowels from string\n",
        "VII. 7.find length of the longest word in a sentence"
      ],
      "metadata": {
        "id": "E0C90NzJL7Yq"
      }
    },
    {
      "cell_type": "code",
      "source": [
        "def reverse_string(s):\n",
        "    return s[::-1]\n",
        "\n",
        "def is_palindrome(s):\n",
        "    return s == s[::-1]\n",
        "\n",
        "def ends_with(s, substring):\n",
        "    return s.endswith(substring)\n",
        "\n",
        "def capitalize_first_letters(s):\n",
        "    return s.title()\n",
        "\n",
        "def are_anagrams(s1, s2):\n",
        "    return sorted(s1.replace(\" \", \"\").lower()) == sorted(s2.replace(\" \", \"\").lower())\n",
        "\n",
        "def remove_vowels(s):\n",
        "    vowels = \"aeiouAEIOU\"\n",
        "    return ''.join([char for char in s if char not in vowels])\n",
        "\n",
        "def length_of_longest_word(s):\n",
        "    words = s.split()\n",
        "    return max(len(word) for word in words)\n",
        "\n",
        "def main():\n",
        "    input_string = input(\"Enter a string: \")\n",
        "\n",
        "    # I. Reverse the string\n",
        "    reversed_string = reverse_string(input_string)\n",
        "    print(f\"Reversed String: {reversed_string}\")\n",
        "\n",
        "    # II. Check if the string is a palindrome\n",
        "    if is_palindrome(input_string):\n",
        "        print(\"The string is a palindrome.\")\n",
        "    else:\n",
        "        print(\"The string is not a palindrome.\")\n",
        "\n",
        "    # III. Check if the string ends with a specific substring\n",
        "    substring = input(\"Enter a substring to check if the string ends with it: \")\n",
        "    if ends_with(input_string, substring):\n",
        "        print(f\"The string ends with '{substring}'.\")\n",
        "    else:\n",
        "        print(f\"The string does not end with '{substring}'.\")\n",
        "\n",
        "    # IV. Capitalize the first letter of each word in the string\n",
        "    capitalized_string = capitalize_first_letters(input_string)\n",
        "    print(f\"Capitalized String: {capitalized_string}\")\n",
        "\n",
        "    # V. Check if the string is an anagram of another string\n",
        "    another_string = input(\"Enter another string to check for anagram: \")\n",
        "    if are_anagrams(input_string, another_string):\n",
        "        print(f\"'{input_string}' is an anagram of '{another_string}'.\")\n",
        "    else:\n",
        "        print(f\"'{input_string}' is not an anagram of '{another_string}'.\")\n",
        "\n",
        "    # VI. Remove vowels from the string\n",
        "    string_without_vowels = remove_vowels(input_string)\n",
        "    print(f\"String without vowels: {string_without_vowels}\")\n",
        "\n",
        "    # VII. Find the length of the longest word in the sentence\n",
        "    longest_word_length = length_of_longest_word(input_string)\n",
        "    print(f\"Length of the longest word: {longest_word_length}\")\n",
        "\n",
        "if __name__ == \"__main__\":\n",
        "    main()\n"
      ],
      "metadata": {
        "colab": {
          "base_uri": "https://localhost:8080/"
        },
        "id": "otU91jphL8k2",
        "outputId": "78b4c504-4b95-4c90-fd3c-b52360184a87"
      },
      "execution_count": null,
      "outputs": [
        {
          "output_type": "stream",
          "name": "stdout",
          "text": [
            "Enter a string: LEVEL\n",
            "Reversed String: LEVEL\n",
            "The string is a palindrome.\n",
            "Enter a substring to check if the string ends with it: EL\n",
            "The string ends with 'EL'.\n",
            "Capitalized String: Level\n",
            "Enter another string to check for anagram: EVELL\n",
            "'LEVEL' is an anagram of 'EVELL'.\n",
            "String without vowels: LVL\n",
            "Length of the longest word: 5\n"
          ]
        }
      ]
    }
  ]
}